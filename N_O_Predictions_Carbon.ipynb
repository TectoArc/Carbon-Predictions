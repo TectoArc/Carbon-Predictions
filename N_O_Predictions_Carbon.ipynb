{
  "nbformat": 4,
  "nbformat_minor": 0,
  "metadata": {
    "colab": {
      "name": "N/O_Predictions_Carbon.ipynb",
      "provenance": [],
      "authorship_tag": "ABX9TyPKsmo0dkcBEae/PAhc7hFL",
      "include_colab_link": true
    },
    "kernelspec": {
      "name": "python3",
      "display_name": "Python 3"
    },
    "language_info": {
      "name": "python"
    }
  },
  "cells": [
    {
      "cell_type": "markdown",
      "metadata": {
        "id": "view-in-github",
        "colab_type": "text"
      },
      "source": [
        "<a href=\"https://colab.research.google.com/github/TectoArc/Carbon-Predictions/blob/main/N_O_Predictions_Carbon.ipynb\" target=\"_parent\"><img src=\"https://colab.research.google.com/assets/colab-badge.svg\" alt=\"Open In Colab\"/></a>"
      ]
    },
    {
      "cell_type": "code",
      "metadata": {
        "id": "cSTDfSZga09t"
      },
      "source": [
        "import pandas as pd\n",
        "import numpy as np\n",
        "%matplotlib inline \n",
        "import matplotlib.pyplot as plt\n",
        "import seaborn as sns \n",
        "\n",
        "sns.set_style('dark')\n",
        "plt.style.use('ggplot')\n",
        "plt.rcParams['xtick.labelsize'] = 14\n",
        "plt.rcParams['ytick.labelsize'] = 14"
      ],
      "execution_count": 19,
      "outputs": []
    },
    {
      "cell_type": "code",
      "metadata": {
        "id": "uV9SC9Nqb6xK"
      },
      "source": [
        "from sklearn.ensemble import ExtraTreesRegressor\n",
        "from sklearn.preprocessing import StandardScaler\n",
        "from sklearn.model_selection import train_test_split"
      ],
      "execution_count": 20,
      "outputs": []
    },
    {
      "cell_type": "code",
      "metadata": {
        "id": "94u52HMBcLNM"
      },
      "source": [
        "df_train = pd.read_excel(\"Dataset_M.xlsx\", skiprows=1)\n",
        "df_train = df_train.drop(columns=[\"Reference\",\"Sample Number\"], axis=1)\n",
        "\n",
        "X  = df_train.drop('C', axis = 1)\n",
        "y = df_train['C']\n",
        "\n",
        "scaler = StandardScaler()\n",
        "X_train, X_test, y_train, y_test = train_test_split(X, y, random_state=44)\n",
        "X_train_scaled = scaler.fit_transform(X_train)\n",
        "X_test_scaled = scaler.transform(X_test)\n",
        "\n",
        "model_extr = ExtraTreesRegressor(bootstrap=False, ccp_alpha=0.0, criterion='mae',\n",
        "                    max_depth=32, max_features='auto', max_leaf_nodes=None,\n",
        "                    max_samples=None, min_impurity_decrease=0.0,\n",
        "                    min_impurity_split=None, min_samples_leaf=1,\n",
        "                    min_samples_split=2, min_weight_fraction_leaf=0.0,\n",
        "                    n_estimators=500, n_jobs=None, oob_score=False,\n",
        "                    verbose=0, warm_start=True, random_state=100)\n",
        "\n",
        "y_extr = model_extr.fit(X_train_scaled, y_train).predict(X_test_scaled)\n",
        "X_scale = scaler.transform(X)\n",
        "y_pred_extr = model_extr.predict(X_scale)"
      ],
      "execution_count": 21,
      "outputs": []
    },
    {
      "cell_type": "markdown",
      "metadata": {
        "id": "eFWJ0JQPieqS"
      },
      "source": [
        "ML Predictios for Phase Boundary Plot"
      ]
    },
    {
      "cell_type": "code",
      "metadata": {
        "colab": {
          "base_uri": "https://localhost:8080/",
          "height": 220
        },
        "id": "lRRaWoSJc6rl",
        "outputId": "b11660b8-de4e-4bca-ea87-28ad6b034911"
      },
      "source": [
        "df_N = pd.read_excel('Dataset_N_Predicted.xlsx', skiprows=1)\n",
        "df_N = df_N.drop(columns=[\"C\"], axis=1)\n",
        "print(df_N.shape, df_N.columns)\n",
        "df_N.head()"
      ],
      "execution_count": 22,
      "outputs": [
        {
          "output_type": "stream",
          "name": "stdout",
          "text": [
            "(101, 5) Index(['Pressure (Gpa)', 'Temperature (°C)', 'Fe', 'Ni', 'S'], dtype='object')\n"
          ]
        },
        {
          "output_type": "execute_result",
          "data": {
            "text/html": [
              "<div>\n",
              "<style scoped>\n",
              "    .dataframe tbody tr th:only-of-type {\n",
              "        vertical-align: middle;\n",
              "    }\n",
              "\n",
              "    .dataframe tbody tr th {\n",
              "        vertical-align: top;\n",
              "    }\n",
              "\n",
              "    .dataframe thead th {\n",
              "        text-align: right;\n",
              "    }\n",
              "</style>\n",
              "<table border=\"1\" class=\"dataframe\">\n",
              "  <thead>\n",
              "    <tr style=\"text-align: right;\">\n",
              "      <th></th>\n",
              "      <th>Pressure (Gpa)</th>\n",
              "      <th>Temperature (°C)</th>\n",
              "      <th>Fe</th>\n",
              "      <th>Ni</th>\n",
              "      <th>S</th>\n",
              "    </tr>\n",
              "  </thead>\n",
              "  <tbody>\n",
              "    <tr>\n",
              "      <th>0</th>\n",
              "      <td>10</td>\n",
              "      <td>1450</td>\n",
              "      <td>48.684211</td>\n",
              "      <td>51.315789</td>\n",
              "      <td>0.000000</td>\n",
              "    </tr>\n",
              "    <tr>\n",
              "      <th>1</th>\n",
              "      <td>10</td>\n",
              "      <td>1450</td>\n",
              "      <td>48.409064</td>\n",
              "      <td>20.690694</td>\n",
              "      <td>0.565165</td>\n",
              "    </tr>\n",
              "    <tr>\n",
              "      <th>2</th>\n",
              "      <td>10</td>\n",
              "      <td>1450</td>\n",
              "      <td>48.137011</td>\n",
              "      <td>20.574415</td>\n",
              "      <td>1.123978</td>\n",
              "    </tr>\n",
              "    <tr>\n",
              "      <th>3</th>\n",
              "      <td>10</td>\n",
              "      <td>1450</td>\n",
              "      <td>47.867998</td>\n",
              "      <td>20.459435</td>\n",
              "      <td>1.676544</td>\n",
              "    </tr>\n",
              "    <tr>\n",
              "      <th>4</th>\n",
              "      <td>10</td>\n",
              "      <td>1450</td>\n",
              "      <td>47.601975</td>\n",
              "      <td>20.345734</td>\n",
              "      <td>2.222969</td>\n",
              "    </tr>\n",
              "  </tbody>\n",
              "</table>\n",
              "</div>"
            ],
            "text/plain": [
              "   Pressure (Gpa)  Temperature (°C)         Fe         Ni         S\n",
              "0              10              1450  48.684211  51.315789  0.000000\n",
              "1              10              1450  48.409064  20.690694  0.565165\n",
              "2              10              1450  48.137011  20.574415  1.123978\n",
              "3              10              1450  47.867998  20.459435  1.676544\n",
              "4              10              1450  47.601975  20.345734  2.222969"
            ]
          },
          "metadata": {},
          "execution_count": 22
        }
      ]
    },
    {
      "cell_type": "code",
      "metadata": {
        "id": "MUt2hIGSdnal"
      },
      "source": [
        "df_N_scaled = scaler.transform(df_N)\n",
        "y_pred_n = model_extr.predict(df_N_scaled)\n",
        "N = pd.DataFrame(y_pred_n, columns=[\"C_Pred_N\"])\n",
        "df_N2 = df_N.copy()\n",
        "df_N2[\"C_Pred_N\"] = N[\"C_Pred_N\"] "
      ],
      "execution_count": 24,
      "outputs": []
    },
    {
      "cell_type": "code",
      "metadata": {
        "colab": {
          "base_uri": "https://localhost:8080/",
          "height": 286
        },
        "id": "3SIRUJqTdrXM",
        "outputId": "6e2f0e11-76e4-4910-ea8a-bb52dd517e80"
      },
      "source": [
        "plt.scatter(df_N[\"S\"], y_pred_n, color='b')\n",
        "plt.ylabel('Carbon_predicted--->')\n",
        "plt.xlabel('Sulfur')\n",
        "plt.show()"
      ],
      "execution_count": 25,
      "outputs": [
        {
          "output_type": "display_data",
          "data": {
            "image/png": "[encoded data removed]",
            "text/plain": [
              "<Figure size 432x288 with 1 Axes>"
            ]
          },
          "metadata": {}
        }
      ]
    },
    {
      "cell_type": "markdown",
      "metadata": {
        "id": "qoVCk6TQglFt"
      },
      "source": [
        "O (New Data) predictions"
      ]
    },
    {
      "cell_type": "code",
      "metadata": {
        "colab": {
          "base_uri": "https://localhost:8080/"
        },
        "id": "rQMFu78wfeAa",
        "outputId": "3fa44424-15dc-4d0d-d4d9-ecc4bd831686"
      },
      "source": [
        "df_O = pd.read_excel('Dataset_O.xlsx', skiprows=1)\n",
        "df_O = df_O.drop(columns = ['C'], axis=1)\n",
        "print(df_O.shape, df_O.columns)"
      ],
      "execution_count": 26,
      "outputs": [
        {
          "output_type": "stream",
          "name": "stdout",
          "text": [
            "(13, 5) Index(['Pressure (Gpa)', 'Temperature (°C)', 'Fe', 'Ni', 'S'], dtype='object')\n"
          ]
        }
      ]
    },
    {
      "cell_type": "code",
      "metadata": {
        "colab": {
          "base_uri": "https://localhost:8080/",
          "height": 286
        },
        "id": "_LpmrcbfgwLK",
        "outputId": "e61fe8b8-d814-42b1-a819-6f8006ab4ce3"
      },
      "source": [
        "df_O_scaled = scaler.transform(df_O)\n",
        "y_pred_o = model_extr.predict(df_O_scaled)\n",
        "O = pd.DataFrame(y_pred_o, columns=[\"C_Pred_O\"])\n",
        "df_O2 = df_O.copy()\n",
        "df_O2[\"C_Pred_O\"] = O[\"C_Pred_O\"]\n",
        "\n",
        "plt.scatter(df_O[\"S\"], y_pred_o, color='b')\n",
        "plt.ylabel('Carbon_predicted--->')\n",
        "plt.xlabel('Sulfur')\n",
        "plt.show()"
      ],
      "execution_count": 27,
      "outputs": [
        {
          "output_type": "display_data",
          "data": {
            "image/png": "[encoded data removed]",
            "text/plain": [
              "<Figure size 432x288 with 1 Axes>"
            ]
          },
          "metadata": {}
        }
      ]
    },
    {
      "cell_type": "code",
      "metadata": {
        "id": "j3XFx9nJheiy"
      },
      "source": [
        ""
      ],
      "execution_count": null,
      "outputs": []
    }
  ]
}