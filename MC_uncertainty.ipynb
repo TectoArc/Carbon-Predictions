{
  "nbformat": 4,
  "nbformat_minor": 0,
  "metadata": {
    "colab": {
      "name": "MC_uncertainty.ipynb",
      "provenance": [],
      "authorship_tag": "ABX9TyMQqJeEmEeSuZM+NYRlzKO3",
      "include_colab_link": true
    },
    "kernelspec": {
      "display_name": "Python 3",
      "name": "python3"
    },
    "language_info": {
      "name": "python"
    }
  },
  "cells": [
    {
      "cell_type": "markdown",
      "metadata": {
        "id": "view-in-github",
        "colab_type": "text"
      },
      "source": [
        "<a href=\"https://colab.research.google.com/github/TectoArc/Carbon-Predictions/blob/main/MC_uncertainty.ipynb\" target=\"_parent\"><img src=\"https://colab.research.google.com/assets/colab-badge.svg\" alt=\"Open In Colab\"/></a>"
      ]
    },
    {
      "cell_type": "code",
      "metadata": {
        "id": "KEnjSC_TX7cd"
      },
      "source": [
        "import pandas as pd\n",
        "import numpy as np\n",
        "import matplotlib.pyplot as plt\n",
        "%matplotlib inline\n",
        "import seaborn as sns \n",
        "\n",
        "sns.set_style(\"dark\")\n",
        "plt.style.use(\"ggplot\")\n",
        "plt.rcParams[\"xtick.labelsize\"] = 14\n",
        "plt.rcParams[\"ytick.labelsize\"] = 14"
      ],
      "execution_count": 1,
      "outputs": []
    },
    {
      "cell_type": "code",
      "metadata": {
        "colab": {
          "base_uri": "https://localhost:8080/"
        },
        "id": "cEylIojjZW-w",
        "outputId": "5fd0ee56-9677-4f02-945e-e9d99d15aaf5"
      },
      "source": [
        "df = pd.read_excel(\"Dataset P.xlsx\", skiprows=1)\n",
        "data = df.copy()\n",
        "data = data.drop(columns = [\"Reference\",\"Sample Number\",\"Unnamed: 4\",\"Unnamed: 7\",\n",
        "                            \"Unnamed: 10\",\"Unnamed: 13\",\"Unnamed: 16\"], axis=1)\n",
        "print(data.shape, data.columns)\n",
        "\n",
        "df_train = pd.read_excel(\"Dataset_M.xlsx\", skiprows=1)\n",
        "df_train = df_train.drop(columns=[\"Reference\",\"Sample Number\"], axis=1)\n",
        "print(df_train.shape, df_train.columns)"
      ],
      "execution_count": 15,
      "outputs": [
        {
          "output_type": "stream",
          "name": "stdout",
          "text": [
            "(336, 12) Index(['Pressure (Gpa)', 'δP', 'Temperature (°C)', 'δT', 'Fe', 'δFe', 'Ni',\n",
            "       'δNi', 'S', 'δS', 'C', 'δC'],\n",
            "      dtype='object')\n",
            "(336, 6) Index(['Pressure (Gpa)', 'Temperature (°C)', 'Fe', 'Ni', 'S', 'C'], dtype='object')\n"
          ]
        }
      ]
    },
    {
      "cell_type": "code",
      "metadata": {
        "id": "SAHIkhmqGHmI"
      },
      "source": [
        "from sklearn.preprocessing import StandardScaler\n",
        "from sklearn.model_selection import train_test_split\n",
        "from sklearn.ensemble import ExtraTreesRegressor\n",
        "\n",
        "\n",
        "X  = df_train.drop('C', axis = 1)\n",
        "y = df_train['C']\n",
        "\n",
        "scaler = StandardScaler()\n",
        "X_train, X_test, y_train, y_test = train_test_split(X, y, random_state=44)\n",
        "X_train_scaled = scaler.fit_transform(X_train)\n",
        "X_test_scaled = scaler.transform(X_test)\n",
        "\n",
        "model_extr = ExtraTreesRegressor(bootstrap=False, ccp_alpha=0.0, criterion='mae',\n",
        "                    max_depth=32, max_features='auto', max_leaf_nodes=None,\n",
        "                    max_samples=None, min_impurity_decrease=0.0,\n",
        "                    min_impurity_split=None, min_samples_leaf=1,\n",
        "                    min_samples_split=2, min_weight_fraction_leaf=0.0,\n",
        "                    n_estimators=500, n_jobs=None, oob_score=False,\n",
        "                    verbose=0, warm_start=True, random_state=100)\n",
        "\n",
        "y_extr = model_extr.fit(X_train_scaled, y_train).predict(X_test_scaled)\n",
        "X_scale = scaler.transform(X)\n",
        "y_pred_extr = model_extr.predict(X_scale)"
      ],
      "execution_count": 16,
      "outputs": []
    },
    {
      "cell_type": "code",
      "metadata": {
        "id": "kENge7203MQx"
      },
      "source": [
        "N=1000\n",
        "data_MCP = pd.DataFrame()\n",
        "predictions = np.empty([len(df_train),N])\n",
        "for i in range(0,N):\n",
        "  data_MCP[\"MCP\"]= np.random.uniform(data[\"Pressure (Gpa)\"]-data[\"δP\"], data[\"Pressure (Gpa)\"]+data[\"δP\"])\n",
        "  data_MCP[\"MCT\"]= np.random.uniform(data[\"Temperature (°C)\"]-data[\"δT\"], data[\"Temperature (°C)\"]+data[\"δT\"])\n",
        "  data_MCP[\"MCFe\"]= np.random.uniform(data[\"Fe\"]-data[\"δFe\"], data[\"Fe\"]+data[\"δFe\"])\n",
        "  data_MCP[\"MCNi\"]= np.random.uniform(data[\"Ni\"]-data[\"δNi\"], data[\"Ni\"]+data[\"δNi\"])\n",
        "  data_MCP[\"MCS\"] = np.random.uniform(data[\"S\"]-data[\"δS\"], data[\"S\"]+data[\"δS\"])\n",
        "\n",
        "  data_MCP_norm = scaler.transform(data_MCP)\n",
        "  predictions[:,i] = model_extr.predict(data_MCP_norm)\n",
        "\n",
        "noise = predictions[:,0]\n",
        "for i in range(1,N):\n",
        "  noise = np.append(noise, predictions[:,i])\n",
        "\n",
        "## Calculation std , mean , max and min for Carbon predicted values \n",
        "\n",
        "carbon_mean_pred = np.empty(len(predictions))\n",
        "carbon_std_pred = np.empty(len(predictions))\n",
        "carbon_min_pred = np.empty(len(predictions))\n",
        "carbon_max_pred = np.empty(len(predictions))\n",
        "for i in range(0,len(predictions)):\n",
        "  carbon_mean_pred[i] = np.mean(predictions[i,:])\n",
        "  carbon_std_pred[i] = 2 * np.std(predictions[i,:])\n",
        "  carbon_min_pred[i] = np.min(predictions[i,:])\n",
        "  carbon_max_pred[i] = np.max(predictions[i,:])\n",
        "\n",
        "df2 = data.copy()\n",
        "df2[\"Carbon_Mean\"] = carbon_mean_pred\n",
        "df2[\"Carbon_Error\"] = carbon_std_pred \n",
        "\n",
        "df2.to_excel(\"MC Output.xlsx\", index=False)"
      ],
      "execution_count": 17,
      "outputs": []
    },
    {
      "cell_type": "code",
      "metadata": {
        "colab": {
          "base_uri": "https://localhost:8080/",
          "height": 203
        },
        "id": "FuMPn4ftSsX-",
        "outputId": "685ff7c9-d527-40cf-deb0-cc68b0d1aad0"
      },
      "source": [
        "s = pd.read_excel(\"MC Output.xlsx\")\n",
        "s.head()"
      ],
      "execution_count": 18,
      "outputs": [
        {
          "output_type": "execute_result",
          "data": {
            "text/html": [
              "<div>\n",
              "<style scoped>\n",
              "    .dataframe tbody tr th:only-of-type {\n",
              "        vertical-align: middle;\n",
              "    }\n",
              "\n",
              "    .dataframe tbody tr th {\n",
              "        vertical-align: top;\n",
              "    }\n",
              "\n",
              "    .dataframe thead th {\n",
              "        text-align: right;\n",
              "    }\n",
              "</style>\n",
              "<table border=\"1\" class=\"dataframe\">\n",
              "  <thead>\n",
              "    <tr style=\"text-align: right;\">\n",
              "      <th></th>\n",
              "      <th>Pressure (Gpa)</th>\n",
              "      <th>δP</th>\n",
              "      <th>Temperature (°C)</th>\n",
              "      <th>δT</th>\n",
              "      <th>Fe</th>\n",
              "      <th>δFe</th>\n",
              "      <th>Ni</th>\n",
              "      <th>δNi</th>\n",
              "      <th>S</th>\n",
              "      <th>δS</th>\n",
              "      <th>C</th>\n",
              "      <th>δC</th>\n",
              "      <th>Carbon_Mean</th>\n",
              "      <th>Carbon_Error</th>\n",
              "    </tr>\n",
              "  </thead>\n",
              "  <tbody>\n",
              "    <tr>\n",
              "      <th>0</th>\n",
              "      <td>0.001</td>\n",
              "      <td>0.0</td>\n",
              "      <td>1200</td>\n",
              "      <td>24.0</td>\n",
              "      <td>88.551165</td>\n",
              "      <td>0.2</td>\n",
              "      <td>7.598784</td>\n",
              "      <td>0.4</td>\n",
              "      <td>0.0</td>\n",
              "      <td>0.0</td>\n",
              "      <td>3.850051</td>\n",
              "      <td>0.38</td>\n",
              "      <td>3.553804</td>\n",
              "      <td>0.023513</td>\n",
              "    </tr>\n",
              "    <tr>\n",
              "      <th>1</th>\n",
              "      <td>0.001</td>\n",
              "      <td>0.0</td>\n",
              "      <td>1250</td>\n",
              "      <td>25.0</td>\n",
              "      <td>87.860082</td>\n",
              "      <td>0.4</td>\n",
              "      <td>8.436214</td>\n",
              "      <td>0.3</td>\n",
              "      <td>0.0</td>\n",
              "      <td>0.0</td>\n",
              "      <td>3.703704</td>\n",
              "      <td>0.36</td>\n",
              "      <td>3.409527</td>\n",
              "      <td>0.117494</td>\n",
              "    </tr>\n",
              "    <tr>\n",
              "      <th>2</th>\n",
              "      <td>0.001</td>\n",
              "      <td>0.0</td>\n",
              "      <td>1280</td>\n",
              "      <td>25.6</td>\n",
              "      <td>86.317907</td>\n",
              "      <td>0.2</td>\n",
              "      <td>10.362173</td>\n",
              "      <td>0.5</td>\n",
              "      <td>0.0</td>\n",
              "      <td>0.0</td>\n",
              "      <td>3.319920</td>\n",
              "      <td>0.33</td>\n",
              "      <td>3.122856</td>\n",
              "      <td>0.149527</td>\n",
              "    </tr>\n",
              "    <tr>\n",
              "      <th>3</th>\n",
              "      <td>0.001</td>\n",
              "      <td>0.0</td>\n",
              "      <td>1310</td>\n",
              "      <td>26.2</td>\n",
              "      <td>88.016113</td>\n",
              "      <td>0.2</td>\n",
              "      <td>8.962739</td>\n",
              "      <td>0.2</td>\n",
              "      <td>0.0</td>\n",
              "      <td>0.0</td>\n",
              "      <td>3.021148</td>\n",
              "      <td>0.30</td>\n",
              "      <td>2.936565</td>\n",
              "      <td>0.267225</td>\n",
              "    </tr>\n",
              "    <tr>\n",
              "      <th>4</th>\n",
              "      <td>0.001</td>\n",
              "      <td>0.0</td>\n",
              "      <td>1360</td>\n",
              "      <td>27.2</td>\n",
              "      <td>89.032901</td>\n",
              "      <td>0.2</td>\n",
              "      <td>8.574277</td>\n",
              "      <td>0.2</td>\n",
              "      <td>0.0</td>\n",
              "      <td>0.0</td>\n",
              "      <td>2.392822</td>\n",
              "      <td>0.24</td>\n",
              "      <td>2.542732</td>\n",
              "      <td>0.236370</td>\n",
              "    </tr>\n",
              "  </tbody>\n",
              "</table>\n",
              "</div>"
            ],
            "text/plain": [
              "   Pressure (Gpa)   δP  Temperature (°C)  ...    δC  Carbon_Mean  Carbon_Error\n",
              "0           0.001  0.0              1200  ...  0.38     3.553804      0.023513\n",
              "1           0.001  0.0              1250  ...  0.36     3.409527      0.117494\n",
              "2           0.001  0.0              1280  ...  0.33     3.122856      0.149527\n",
              "3           0.001  0.0              1310  ...  0.30     2.936565      0.267225\n",
              "4           0.001  0.0              1360  ...  0.24     2.542732      0.236370\n",
              "\n",
              "[5 rows x 14 columns]"
            ]
          },
          "metadata": {},
          "execution_count": 18
        }
      ]
    },
    {
      "cell_type": "code",
      "metadata": {
        "colab": {
          "base_uri": "https://localhost:8080/",
          "height": 574
        },
        "id": "h3kg_zXqTTg6",
        "outputId": "c2ffe30f-2155-4c8b-afd1-9204989c955b"
      },
      "source": [
        "from sklearn.mixture import GaussianMixture\n",
        "\n",
        "x = np.linspace(0,8, 1000)\n",
        "n = np.arange(1,4)\n",
        "\n",
        "result = noise.reshape(-1,1)\n",
        "models = [None for i in range(len(n))]\n",
        "\n",
        "for i in range(len(n)):\n",
        "  models[i] = GaussianMixture(n[i]).fit(result)\n",
        "\n",
        "AIC = [m.aic(result) for m in models] \n",
        "BIC = [m.bic(result) for m in models]\n",
        "\n",
        "best_score = models[np.argmin(AIC)]\n",
        "\n",
        "log_prob = best_score.score_samples(x.reshape(-1,1))\n",
        "probs = best_score.predict_proba(x.reshape(-1,1))\n",
        "final_prob = np.exp(log_prob)\n",
        "individual_prob = probs*final_prob[:,np.newaxis]\n",
        "\n",
        "fig = plt.figure(figsize=(10,8))\n",
        "sns.distplot(noise, hist=True, kde=True, bins=30, color='orange', \n",
        "             hist_kws={'edgecolor':'None','alpha':0.2,'zorder':2},\n",
        "             kde_kws={'linewidth': 2, 'zorder':4}, label=\"Carbon Conc. Ranges\")\n",
        "\n",
        "plt.plot(x, final_prob,\"-\", color='k', lw=2, zorder=5)\n",
        "plt.plot(x, individual_prob,'k--',lw=0.5, zorder=2)\n",
        "\n",
        "plt.xlabel(\"Predicted Carbon (wt%)\")\n",
        "plt.ylabel(\"Probability (Normalized Count)\")\n",
        "plt.title(\"1000 MC iterations for realistic uncertainties\")\n",
        "plt.legend(loc=\"upper right\", fontsize=\"medium\")\n",
        "plt.xlim(0,10)\n",
        "#fig.savefig(\"MC_result.jpg\", format=\"jpg\", dpi=1600)\n",
        "plt.show()"
      ],
      "execution_count": 19,
      "outputs": [
        {
          "output_type": "stream",
          "name": "stderr",
          "text": [
            "/usr/local/lib/python3.7/dist-packages/seaborn/distributions.py:2557: FutureWarning: `distplot` is a deprecated function and will be removed in a future version. Please adapt your code to use either `displot` (a figure-level function with similar flexibility) or `histplot` (an axes-level function for histograms).\n",
            "  warnings.warn(msg, FutureWarning)\n"
          ]
        },
        {
          "output_type": "display_data",
          "data": {
            "image/png": "[encoded data removed]",
            "text/plain": [
              "<Figure size 720x576 with 1 Axes>"
            ]
          },
          "metadata": {
            "needs_background": "light"
          }
        }
      ]
    },
    {
      "cell_type": "code",
      "metadata": {
        "id": "neJSaC__s7pC"
      },
      "source": [
        ""
      ],
      "execution_count": null,
      "outputs": []
    }
  ]
}